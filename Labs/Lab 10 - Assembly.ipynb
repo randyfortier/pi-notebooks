{
 "cells": [
  {
   "cell_type": "markdown",
   "id": "7a3f3298-ebe4-4d2f-9209-e9cf6c05c3d0",
   "metadata": {},
   "source": [
    "# ARM assembler in Raspberry Pi\n",
    "\n",
    "Machine language is built up from discrete statements or instructions implemented by a particular processor. ARM is a family of instruction set architectures for computer processors and is the one used by the processor of the Raspberry Pi. The machine language is interpreted by the computer in term of binary codes. Binary code is what a computer can run. It is composed of instructions, that are encoded in a binary representation (such encodings are documented in the ARM manuals). You could write binary code encoding instructions but that would be painstaking. So instead we will write assembler language. Assembler language is just a thin syntax layer on top of the binary code.\n",
    "\n",
    "Since the computer cannot run assembler we have to get binary code from it. We use a tool called, well, assembler to assemble the assembler code into a binary code that we can run. The tool to do this is called as. In particular GNU Assembler, which is the assembler tool from the GNU project, sometimes it is also known as gas for this reason. This is the tool we will use to assemble our programs."
   ]
  },
  {
   "cell_type": "markdown",
   "id": "135ccdb2-7a24-48e6-bc37-700c1dd0dde7",
   "metadata": {},
   "source": [
    "## Our first ARM Program\n",
    "\n",
    "We will start with a simple program which does nothing."
   ]
  },
  {
   "cell_type": "code",
   "execution_count": null,
   "id": "0a124ca2-d693-49ed-93f6-a330ac79fea7",
   "metadata": {},
   "outputs": [],
   "source": [
    ".global main         /* 'main' is our entry point and must be global */\n",
    "\n",
    "main:                /* This is main */\n",
    "    mov r0, #2       /* Put a 2 inside the register w0 */"
   ]
  },
  {
   "cell_type": "markdown",
   "id": "cd6d9901-36c4-4d0c-b586-4cb088e6d37e",
   "metadata": {},
   "source": [
    "In the program above, we have put a 2 inside the register 0. We can check the registers with the following command:"
   ]
  },
  {
   "cell_type": "code",
   "execution_count": null,
   "id": "570a379f-4fa7-48fb-9803-3c9e759fc1a2",
   "metadata": {},
   "outputs": [],
   "source": [
    ">>> show registers"
   ]
  },
  {
   "cell_type": "markdown",
   "id": "affdf96c-234e-47d4-bb70-dbb343dfde98",
   "metadata": {},
   "source": [
    "We can see a list of all register from 0 to 12. However, notice that in the register 0, there is a 2 in there now"
   ]
  },
  {
   "cell_type": "markdown",
   "id": "40a04b51-7ee8-4f43-ab35-d2849e79d4c1",
   "metadata": {},
   "source": [
    "## Well, what happened?\n",
    "We made things easier by using an emulated processor. Although the Raspberry Pi 5 we are using has 64-bit ARM architecture, this notebook emulates an ARM Cortex M3 processor, which is a 32-bit ARM processor. We wrote a simple assembly program that only assigns `2` to `r0` and then we inspected the value of registers.\n",
    "\n",
    "Let's review every line of our assembly code step by step:\n",
    "\n",
    "The comments are enclosed in `/*` and `*/`. Use them to document your assembler as they are ignored during execution. Avoid nesting `/*` and `*/` inside `/*` because it does not work.\n",
    "\n",
    "```asm\n",
    ".global main         /* 'main' is our entry point and must be global */\n",
    "```\n",
    "\n",
    "This is a directive for GNU Assembler. A directive tells GNU Assembler to do something special. They start with a dot (`.`) followed by the name of the directive and some arguments. In this case we are saying that main is a global name. This is needed because the C runtime will call main. If it is not global, it will not be callable by the C runtime and the linking phase will fail.\n",
    "\n",
    "```asm\n",
    "main:                /* This is main */\n",
    "```\n",
    "\n",
    "In GNU Assembler, every line that isn’t a directive typically follows the format `label: instruction`. Both `label:` and `instruction` can be omitted (empty or blank lines are ignored). A line containing only a `label:` applies that label to the next instruction. Multiple labels can refer to the same instruction in this way. The instruction itself is written in ARM assembly language. In the example above, we are simply defining the `main` label without any associated instruction.\n",
    "\n",
    "```asm\n",
    "mov r0, #2       /* Put a 2 inside the register w0 */\n",
    "```\n",
    "    \n",
    "Whitespace at the beginning of the line is ignored, but indentation visually indicates that this instruction belongs to the `main` function. <br/>\n",
    "The `mov` instruction stands for move, and in this case we move value `2` to the register `r0`. In the next chapter we will see more about register. ARM syntax places the destination on the left, so the command reads as \"move the immediate value `2` into register `r0`\" (this effectively overwrites whatever register `r0` may have at that point). We'll cover more about registers and immediate values in the next chapter.\n",
    "\n",
    "```\n",
    ">>> show registers\n",
    "```\n",
    "\n",
    "This line of code is included in the next cell. `show` commands are not part of the ARM Assembly language; rather they are part of a collection of commands that help us inspect the state of the processor and execute actions outside of ARM's capabilities. This command is built into the ARM Kernel within this notebook.\n"
   ]
  },
  {
   "cell_type": "markdown",
   "id": "7f06ed8e-efec-43ee-83d7-76625125691f",
   "metadata": {},
   "source": [
    "## Registers\n",
    "\n",
    "At its core, a processor in a computer is nothing but a powerful calculator. Calculations can only be carried using values stored in very tiny memories called registers. The ARM processor in a Cortex M3 has 16 integer registers and 32 floating point registers. A processor uses these registers to perform integer computations and floating point computations, respectively. We will put floating registers aside for now and eventually we will get back to them in a future installment. Let’s focus on the integer registers.\n",
    "\n",
    "ARM processors have 16 integer registers, named `r0` to `r15`. Registers `r0`-`r12` are 32-bit general purpose registers. However, `r13`-`r15` are unique registers to serve specific purposes: `r13` contains two stack pointers, `r14` is the link register, and `r15` is the program counter. In this lab, we won’t need many registers; at most, we will only use up to 3 registers. That said, it is convenient to represent integers in two's complement as there are instructions which perform computations assuming this encoding. So from now, except noted, we will assume our registers contain integer values encoded in two's complement."
   ]
  },
  {
   "cell_type": "markdown",
   "id": "8a7088cb-3121-4e02-9d3c-daf8c6a84d24",
   "metadata": {},
   "source": [
    "## Instructions\n",
    "\n",
    "Some of the instructions for the ARM assembler are different from the ones for x86 covered in lecture. One such difference is that many instructions now have an explicit destination register, rather an implicit one. For example, the addition instruction `add` takes 3 operands instead of 2 – the first is the destination register where the result will be stored, and the next two operands are the numbers you want to add together, e.g. if you want to sore the result of `r1 + r2` in the register `r0`, you would use:\n",
    "\n",
    "```asm\n",
    "add, r0, r1, r2\n",
    "```"
   ]
  },
  {
   "cell_type": "markdown",
   "id": "2e6b4f60-033b-4b3c-8ab4-68cd8d530cf1",
   "metadata": {},
   "source": [
    "## Branching\n",
    "\n",
    "In x86, the commands used to branch use the “jump” nomenclature, and as such usually begin with `j`, or use `jmp` for an unconditional branch. With ARM assembly, you branch with the instruction `b` followed by an optional condition. You still use the `cmp` instruction to compare two numbers, it’s just the branch statement that changes. For example, an unconditional jump to the label `exit` would use the command:\n",
    "\n",
    "```asm\n",
    "b exit\n",
    "```\n",
    "\n",
    "Whereas a jump to the label `top`, based on whether or not the value in register `r0` was less than 0 would use the commands:\n",
    "\n",
    "```asm\n",
    "cmp r0, #0\n",
    "blt top\n",
    "```\n",
    "\n",
    "The following table shows the different conditions for x86 and ARM (we’ll stick to signed number comparisons)\n",
    "\n",
    "| Condition                    | x86 Instruction | ARM Instruction |\n",
    "| ---------------------------- | --------------- | --------------- |\n",
    "| equal (==)                   | je              | beq             |\n",
    "| not equal (!=)               | jne             | bne             |\n",
    "| less than (<)                | jl              | blt             |\n",
    "| less than or equal to (≤)    | jle             | ble             |\n",
    "| greater than (>)             | jg              | bgt             |\n",
    "| greater than or equal to (≥) | jge             | bge             |"
   ]
  },
  {
   "cell_type": "markdown",
   "id": "3a8e5eff-2f79-41c8-a9db-7a5d68777780",
   "metadata": {},
   "source": [
    "## Exercise #1\n",
    "\n",
    "Almost every processor can do some basic arithmetic computations using the integer registers. So do ARM processors.  You can **add** two registers. Let's retake our example from above:"
   ]
  },
  {
   "cell_type": "code",
   "execution_count": null,
   "id": "58e35ab2-0353-459a-b710-a3d6c70a8f39",
   "metadata": {},
   "outputs": [],
   "source": [
    ".global main\n",
    "\n",
    "main:\n",
    "    mov r1, #3\n",
    "    mov r2, #4 \n",
    "    add r0, r1, r2\n",
    "\n",
    ">>> show registers[0-2]"
   ]
  },
  {
   "cell_type": "markdown",
   "id": "52c7d102-169a-4ff9-8701-653265f5b5a0",
   "metadata": {},
   "source": [
    "If we compile and run this program, `r0` will contain `7`."
   ]
  },
  {
   "cell_type": "markdown",
   "id": "e748688d-7d41-4255-a39e-c5bfb3fa5b69",
   "metadata": {},
   "source": [
    "## Exercise #2\n",
    "\n",
    "Write an assembly language program that loops through the numbers 1 through 10, adding each to a total, and exiting the loop as appropriate. Once the loop is complete, the total value should be returned, just as we have in the previous exercise and above examples such that it can be examined from the command line. In this example, the result should be 55 (1 + 2 + 3 + 4 + 5 + 6 + 7 + 8 + 9 + 10 = 55)."
   ]
  },
  {
   "cell_type": "code",
   "execution_count": null,
   "id": "d3a514ad-16ec-416a-bcce-f334cf4a8277",
   "metadata": {},
   "outputs": [],
   "source": [
    "/* Code here */"
   ]
  }
 ],
 "metadata": {
  "kernelspec": {
   "display_name": "ARM",
   "language": "ARM Assembly",
   "name": "arm"
  },
  "language_info": {
   "file_extension": ".txt",
   "mimetype": "text/html",
   "name": "Any text"
  }
 },
 "nbformat": 4,
 "nbformat_minor": 5
}
